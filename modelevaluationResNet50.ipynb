{
 "cells": [
  {
   "cell_type": "markdown",
   "metadata": {
    "id": "utyAzcnUJE-3"
   },
   "source": [
    "### importing the libraries"
   ]
  },
  {
   "cell_type": "code",
   "execution_count": 7,
   "metadata": {
    "colab": {
     "base_uri": "https://localhost:8080/"
    },
    "executionInfo": {
     "elapsed": 19075,
     "status": "ok",
     "timestamp": 1653199597651,
     "user": {
      "displayName": "Syed Maaher Hossain",
      "userId": "04231937844434533844"
     },
     "user_tz": -360
    },
    "id": "6nIT5oiAg5GL",
    "outputId": "06b6f288-801c-454a-ccd6-41e627f69883"
   },
   "outputs": [],
   "source": [
    "# importing the libraries\n",
    "import numpy as np\n",
    "import pandas as pd\n",
    "import matplotlib.pyplot as plt\n",
    "from glob import glob\n",
    "#from google.colab import drive\n",
    "#drive.mount('/content/drive/')\n"
   ]
  },
  {
   "cell_type": "code",
   "execution_count": 8,
   "metadata": {
    "colab": {
     "base_uri": "https://localhost:8080/"
    },
    "executionInfo": {
     "elapsed": 711,
     "status": "ok",
     "timestamp": 1653199601653,
     "user": {
      "displayName": "Syed Maaher Hossain",
      "userId": "04231937844434533844"
     },
     "user_tz": -360
    },
    "id": "SP7ryjCD8x1R",
    "outputId": "d27cc76f-92f2-4c48-b286-1a426c1b3a5e"
   },
   "outputs": [
    {
     "name": "stdout",
     "output_type": "stream",
     "text": [
      "['desktop.ini', 'Test Set', 'Traning Set', 'Validation Set']\n"
     ]
    }
   ],
   "source": [
    "import numpy as np # linear algebra\n",
    "import pandas as pd\n",
    "import os\n",
    "print(os.listdir(\"C:/Users/Maaher/Desktop/ResNet50/Dataset/Strokefaces\"))\n"
   ]
  },
  {
   "cell_type": "code",
   "execution_count": 9,
   "metadata": {
    "executionInfo": {
     "elapsed": 2542,
     "status": "ok",
     "timestamp": 1653199604621,
     "user": {
      "displayName": "Syed Maaher Hossain",
      "userId": "04231937844434533844"
     },
     "user_tz": -360
    },
    "id": "DgJxZ4Ik9Hhg"
   },
   "outputs": [],
   "source": [
    "import numpy as np # linear algebra\n",
    "import pandas as pd # data processing, CSV file I/O (e.g. pd.read_csv)\n",
    "import os\n",
    "import shutil\n",
    "import matplotlib.pyplot as plt\n",
    "%matplotlib inline\n",
    "\n",
    "from IPython.display import Image, display\n",
    "from sklearn.model_selection import train_test_split\n",
    "from tensorflow.keras.applications import ResNet50\n",
    "from tensorflow.python.keras.models import Sequential\n",
    "from tensorflow.python.keras.layers import Dense, Flatten, GlobalAveragePooling2D, Dropout\n",
    "from keras.preprocessing.image import ImageDataGenerator\n",
    "\n",
    "from keras.callbacks import EarlyStopping, TensorBoard, CSVLogger, ReduceLROnPlateau, ModelCheckpoint\n",
    "import numpy as np\n",
    "import pandas as pd\n",
    "import cv2\n",
    "import os\n",
    "from glob import glob\n",
    "import matplotlib.pyplot as plt\n",
    "import random\n",
    "from sklearn.model_selection import train_test_split"
   ]
  },
  {
   "cell_type": "code",
   "execution_count": 10,
   "metadata": {
    "executionInfo": {
     "elapsed": 3,
     "status": "ok",
     "timestamp": 1653199604621,
     "user": {
      "displayName": "Syed Maaher Hossain",
      "userId": "04231937844434533844"
     },
     "user_tz": -360
    },
    "id": "WwVRSPIh9v1w"
   },
   "outputs": [],
   "source": [
    "train_data_dir = r'C:\\Users\\Maaher\\Desktop\\ResNet50\\Dataset\\Strokefaces\\Traning Set'\n",
    "img_width, img_height = 224, 224 \n",
    "batch_size = 32\n",
    "validation_dir = r'C:\\Users\\Maaher\\Desktop\\ResNet50\\Dataset\\Strokefaces\\Validation Set'\n"
   ]
  },
  {
   "cell_type": "markdown",
   "metadata": {
    "id": "lA7Y4m7HPWgg"
   },
   "source": [
    "### Image Augmentation"
   ]
  },
  {
   "cell_type": "code",
   "execution_count": 11,
   "metadata": {
    "colab": {
     "base_uri": "https://localhost:8080/"
    },
    "executionInfo": {
     "elapsed": 10091,
     "status": "ok",
     "timestamp": 1653199617771,
     "user": {
      "displayName": "Syed Maaher Hossain",
      "userId": "04231937844434533844"
     },
     "user_tz": -360
    },
    "id": "JwQg3yfg97mY",
    "outputId": "8a368402-b86f-4dd2-d318-675a935c8d9d"
   },
   "outputs": [
    {
     "name": "stdout",
     "output_type": "stream",
     "text": [
      "Found 1707 images belonging to 2 classes.\n",
      "Found 125 images belonging to 2 classes.\n"
     ]
    }
   ],
   "source": [
    "image_size = 224\n",
    "\n",
    "#from keras.applications import preprocess_input\n",
    "#model = MobileNetV2(include_top=False, input_shape=(224, 224, 3),weights=\"imagenet\")\n",
    "data_generator = ImageDataGenerator(\n",
    "                                    horizontal_flip=True,\n",
    "                                    width_shift_range=0.2,\n",
    "                                    height_shift_range=0.2,\n",
    "                                    validation_split=0.2)# set validation split\n",
    "\n",
    "train_generator = data_generator.flow_from_directory(\n",
    "    train_data_dir,\n",
    "    target_size=(image_size, image_size),\n",
    "    batch_size=200,\n",
    "    class_mode='categorical',\n",
    "    subset='training'\n",
    "    )\n",
    "validation_generator = data_generator.flow_from_directory(\n",
    "    validation_dir,\n",
    "    target_size=(image_size, image_size),\n",
    "    batch_size=10,\n",
    "    class_mode='categorical',\n",
    "    subset='validation'\n",
    "    )"
   ]
  },
  {
   "cell_type": "markdown",
   "metadata": {
    "id": "Fqm2dhpfI62x"
   },
   "source": [
    "### Hyperparameters"
   ]
  },
  {
   "cell_type": "code",
   "execution_count": 12,
   "metadata": {
    "colab": {
     "base_uri": "https://localhost:8080/"
    },
    "executionInfo": {
     "elapsed": 7060,
     "status": "ok",
     "timestamp": 1653199624824,
     "user": {
      "displayName": "Syed Maaher Hossain",
      "userId": "04231937844434533844"
     },
     "user_tz": -360
    },
    "id": "iuHGJYQj-Y_b",
    "outputId": "ddd7567a-f653-4ade-cd95-af8c598eecee"
   },
   "outputs": [],
   "source": [
    "# Hyperparameters\n",
    "\n",
    "from tensorflow.keras.optimizers import Adam, SGD\n",
    "model = Sequential()\n",
    "model.add(ResNet50(include_top=False, pooling='avg'))\n",
    "model.add(Dense(256, activation='relu'))\n",
    "model.add(Dropout(0.5))\n",
    "model.add(Dense(2, activation='softmax'))\n",
    "\n",
    "# Do not train first layer (ResNet) as it is already pre-trained\n",
    "model.layers[0].trainable = False\n",
    "\n",
    "# Compile model\n",
    "from tensorflow.python.keras import optimizers\n",
    "\n",
    "\n",
    "model.compile(optimizer='adam', loss='categorical_crossentropy', metrics=['accuracy'])"
   ]
  },
  {
   "cell_type": "code",
   "execution_count": 13,
   "metadata": {
    "executionInfo": {
     "elapsed": 3,
     "status": "ok",
     "timestamp": 1653199624824,
     "user": {
      "displayName": "Syed Maaher Hossain",
      "userId": "04231937844434533844"
     },
     "user_tz": -360
    },
    "id": "1pFr2OLr-g9D"
   },
   "outputs": [],
   "source": [
    "NUM_EPOCHS = 10"
   ]
  },
  {
   "cell_type": "code",
   "execution_count": 8,
   "metadata": {
    "colab": {
     "base_uri": "https://localhost:8080/"
    },
    "executionInfo": {
     "elapsed": 519102,
     "status": "ok",
     "timestamp": 1653200143924,
     "user": {
      "displayName": "Syed Maaher Hossain",
      "userId": "04231937844434533844"
     },
     "user_tz": -360
    },
    "id": "DkLScuMHC5vf",
    "outputId": "71e6f73b-964c-42eb-f180-7b56d715d5f1"
   },
   "outputs": [
    {
     "name": "stdout",
     "output_type": "stream",
     "text": [
      "Epoch 1/10\n",
      "8/8 [==============================] - 85s 11s/step - loss: 1.3863 - accuracy: 0.5944 - val_loss: 0.3938 - val_accuracy: 0.8917\n",
      "Epoch 2/10\n",
      "8/8 [==============================] - 76s 10s/step - loss: 0.2856 - accuracy: 0.8865 - val_loss: 0.3568 - val_accuracy: 0.8083\n",
      "Epoch 3/10\n",
      "8/8 [==============================] - 77s 10s/step - loss: 0.1954 - accuracy: 0.9250 - val_loss: 0.1406 - val_accuracy: 0.9583\n",
      "Epoch 4/10\n",
      "8/8 [==============================] - 76s 9s/step - loss: 0.1436 - accuracy: 0.9443 - val_loss: 0.2978 - val_accuracy: 0.8667\n",
      "Epoch 5/10\n",
      "8/8 [==============================] - 87s 11s/step - loss: 0.0769 - accuracy: 0.9748 - val_loss: 0.2119 - val_accuracy: 0.8667\n",
      "Epoch 6/10\n",
      "8/8 [==============================] - 81s 10s/step - loss: 0.0764 - accuracy: 0.9748 - val_loss: 0.2322 - val_accuracy: 0.9083\n",
      "Epoch 7/10\n",
      "8/8 [==============================] - 82s 10s/step - loss: 0.0635 - accuracy: 0.9781 - val_loss: 0.1278 - val_accuracy: 0.9583\n",
      "Epoch 8/10\n",
      "8/8 [==============================] - 79s 10s/step - loss: 0.0534 - accuracy: 0.9841 - val_loss: 0.2336 - val_accuracy: 0.8833\n",
      "Epoch 9/10\n",
      "8/8 [==============================] - 78s 10s/step - loss: 0.0539 - accuracy: 0.9801 - val_loss: 0.1288 - val_accuracy: 0.9333\n",
      "Epoch 10/10\n",
      "8/8 [==============================] - 86s 11s/step - loss: 0.0487 - accuracy: 0.9831 - val_loss: 0.1529 - val_accuracy: 0.9250\n"
     ]
    }
   ],
   "source": [
    "import math\n",
    "\n",
    "fit_history = model.fit(\n",
    "    train_generator,\n",
    "    steps_per_epoch=train_generator.n // train_generator.batch_size,\n",
    "    epochs=10,\n",
    "    validation_data=validation_generator,\n",
    "    validation_steps=validation_generator.n // validation_generator.batch_size,\n",
    "    verbose=1)\n",
    "       "
   ]
  },
  {
   "cell_type": "markdown",
   "metadata": {
    "id": "hbFql1OZP4dX"
   },
   "source": [
    "### **Result**"
   ]
  },
  {
   "cell_type": "code",
   "execution_count": 9,
   "metadata": {
    "colab": {
     "base_uri": "https://localhost:8080/",
     "height": 404
    },
    "executionInfo": {
     "elapsed": 13,
     "status": "ok",
     "timestamp": 1653200143925,
     "user": {
      "displayName": "Syed Maaher Hossain",
      "userId": "04231937844434533844"
     },
     "user_tz": -360
    },
    "id": "9BAQkpktslAs",
    "outputId": "fccf0f0d-d8dc-4f3d-b564-0fb9515bb6c1"
   },
   "outputs": [
    {
     "data": {
      "image/png": "[encoded data removed]",
      "text/plain": [
       "<Figure size 648x432 with 1 Axes>"
      ]
     },
     "metadata": {
      "needs_background": "light"
     },
     "output_type": "display_data"
    }
   ],
   "source": [
    "f = plt.figure()\n",
    "f.set_figwidth(9)\n",
    "f.set_figheight(6)\n",
    "plt.plot(fit_history.history['accuracy'], color='orange')\n",
    "plt.plot(fit_history.history['val_accuracy'], color='red')\n",
    "plt.title('train_accuracy vs val_accuracy')\n",
    "plt.ylabel('accuracy')\n",
    "plt.xlabel('epoch')\n",
    "plt.legend(['train_accuracy', 'val_accuracy'], loc=4)\n",
    "plt.show()"
   ]
  },
  {
   "cell_type": "code",
   "execution_count": 10,
   "metadata": {
    "colab": {
     "base_uri": "https://localhost:8080/",
     "height": 404
    },
    "executionInfo": {
     "elapsed": 6,
     "status": "ok",
     "timestamp": 1653200143925,
     "user": {
      "displayName": "Syed Maaher Hossain",
      "userId": "04231937844434533844"
     },
     "user_tz": -360
    },
    "id": "UNF5Fvg8ABKD",
    "outputId": "c173fe83-e84f-4606-b8be-d3fd3e7d0b1c"
   },
   "outputs": [
    {
     "data": {
      "image/png": "[encoded data removed]",
      "text/plain": [
       "<Figure size 648x432 with 1 Axes>"
      ]
     },
     "metadata": {
      "needs_background": "light"
     },
     "output_type": "display_data"
    }
   ],
   "source": [
    "f = plt.figure()\n",
    "f.set_figwidth(9)\n",
    "f.set_figheight(6)\n",
    "plt.plot(fit_history.history['loss'], color='blue')\n",
    "plt.plot(fit_history.history['val_loss'], color='green')\n",
    "plt.title('train_loss vs val_loss')\n",
    "plt.ylabel('loss')\n",
    "plt.xlabel('epoch')\n",
    "plt.legend(['train_loss', 'val_loss'])\n",
    "plt.show()"
   ]
  },
  {
   "cell_type": "code",
   "execution_count": 13,
   "metadata": {
    "colab": {
     "base_uri": "https://localhost:8080/",
     "height": 345
    },
    "executionInfo": {
     "elapsed": 14,
     "status": "error",
     "timestamp": 1653200177515,
     "user": {
      "displayName": "Syed Maaher Hossain",
      "userId": "04231937844434533844"
     },
     "user_tz": -360
    },
    "id": "RugqkJtnpxvi",
    "outputId": "0e243f24-8a43-4419-9f40-fb761261efa3"
   },
   "outputs": [],
   "source": [
    "from keras.models import load_model\n",
    "from keras.preprocessing import image\n",
    "import matplotlib.pyplot as plt\n",
    "import numpy as np\n",
    "import os\n",
    "import glob\n",
    "\n",
    "\n",
    "def load_image(img_path, show=False):\n",
    "\n",
    "    img = image.load_img(img_path, target_size=(224, 224))\n",
    "    img_tensor = image.img_to_array(img)                    # (height, width, channels)\n",
    "    img_tensor = np.expand_dims(img_tensor, axis=0)         # (1, height, width, channels), add a dimension because the model expects this shape: (batch_size, height, width, channels)\n",
    "    img_tensor /= 255.                                      # imshow expects values in the range [0, 1]\n",
    "\n",
    "    if show:\n",
    "        plt.imshow(img_tensor[0])                           \n",
    "        plt.axis('off')\n",
    "        plt.show()\n",
    "\n",
    "    return img_tensor\n",
    "\n",
    "\n",
    "if __name__ == \"__main__\":\n",
    "\n",
    "    # load model\n",
    "    clos =[]\n",
    "for f in glob.glob(r'C:\\Users\\Maaher\\Desktop\\New folder\\jpg data\\Normalface\\*.jpg') :\n",
    "      \n",
    "    # image path\n",
    "    \n",
    "    #img_path = '/media/data/dogscats/test1/19.jpg'      # cat\n",
    "\n",
    "    # load a single image\n",
    "           new_image = load_image(f)\n",
    "\n",
    "    # check prediction\n",
    "           pred = model.predict(new_image)\n",
    "           clos.append(pred)"
   ]
  },
  {
   "cell_type": "code",
   "execution_count": 14,
   "metadata": {
    "id": "WySHL24iaMO1"
   },
   "outputs": [],
   "source": [
    "import numpy as np\n",
    "clos = np.array(clos)"
   ]
  },
  {
   "cell_type": "code",
   "execution_count": 15,
   "metadata": {},
   "outputs": [
    {
     "data": {
      "text/plain": [
       "array([[[0.17321305, 0.826787  ]],\n",
       "\n",
       "       [[0.17692354, 0.8230765 ]],\n",
       "\n",
       "       [[0.18098162, 0.81901836]],\n",
       "\n",
       "       [[0.18843855, 0.8115614 ]],\n",
       "\n",
       "       [[0.16637728, 0.83362275]],\n",
       "\n",
       "       [[0.2022359 , 0.7977641 ]],\n",
       "\n",
       "       [[0.17409515, 0.82590485]],\n",
       "\n",
       "       [[0.1904627 , 0.80953723]],\n",
       "\n",
       "       [[0.17672372, 0.8232763 ]],\n",
       "\n",
       "       [[0.1744879 , 0.8255121 ]],\n",
       "\n",
       "       [[0.17069143, 0.82930857]],\n",
       "\n",
       "       [[0.1733216 , 0.8266784 ]],\n",
       "\n",
       "       [[0.1919626 , 0.8080374 ]],\n",
       "\n",
       "       [[0.17915218, 0.82084787]],\n",
       "\n",
       "       [[0.19022022, 0.8097798 ]],\n",
       "\n",
       "       [[0.17689066, 0.8231094 ]],\n",
       "\n",
       "       [[0.19526985, 0.8047302 ]],\n",
       "\n",
       "       [[0.17330591, 0.8266941 ]],\n",
       "\n",
       "       [[0.1865187 , 0.81348133]],\n",
       "\n",
       "       [[0.17882541, 0.82117456]],\n",
       "\n",
       "       [[0.17391154, 0.8260885 ]],\n",
       "\n",
       "       [[0.16674079, 0.8332592 ]],\n",
       "\n",
       "       [[0.16820937, 0.83179057]],\n",
       "\n",
       "       [[0.17253715, 0.82746285]],\n",
       "\n",
       "       [[0.1634994 , 0.8365006 ]],\n",
       "\n",
       "       [[0.1793804 , 0.8206196 ]],\n",
       "\n",
       "       [[0.18814462, 0.8118554 ]],\n",
       "\n",
       "       [[0.17006399, 0.829936  ]],\n",
       "\n",
       "       [[0.18015027, 0.8198497 ]],\n",
       "\n",
       "       [[0.17428425, 0.8257157 ]],\n",
       "\n",
       "       [[0.17691156, 0.82308847]],\n",
       "\n",
       "       [[0.2510667 , 0.7489333 ]],\n",
       "\n",
       "       [[0.179522  , 0.82047796]],\n",
       "\n",
       "       [[0.17044683, 0.8295531 ]],\n",
       "\n",
       "       [[0.1861794 , 0.8138206 ]],\n",
       "\n",
       "       [[0.172383  , 0.82761705]],\n",
       "\n",
       "       [[0.17518194, 0.824818  ]],\n",
       "\n",
       "       [[0.19177683, 0.8082232 ]],\n",
       "\n",
       "       [[0.19828378, 0.80171615]],\n",
       "\n",
       "       [[0.21343994, 0.78656006]],\n",
       "\n",
       "       [[0.20385504, 0.7961449 ]],\n",
       "\n",
       "       [[0.18595304, 0.81404704]],\n",
       "\n",
       "       [[0.21332231, 0.78667766]],\n",
       "\n",
       "       [[0.19180577, 0.8081942 ]],\n",
       "\n",
       "       [[0.19048846, 0.80951154]],\n",
       "\n",
       "       [[0.17688042, 0.8231195 ]],\n",
       "\n",
       "       [[0.17782228, 0.82217777]],\n",
       "\n",
       "       [[0.18398528, 0.81601465]],\n",
       "\n",
       "       [[0.18752377, 0.8124762 ]],\n",
       "\n",
       "       [[0.182909  , 0.81709105]],\n",
       "\n",
       "       [[0.1743879 , 0.8256121 ]],\n",
       "\n",
       "       [[0.17063516, 0.82936484]],\n",
       "\n",
       "       [[0.18566218, 0.81433785]],\n",
       "\n",
       "       [[0.17327286, 0.82672715]],\n",
       "\n",
       "       [[0.18998913, 0.8100108 ]],\n",
       "\n",
       "       [[0.16735062, 0.8326494 ]],\n",
       "\n",
       "       [[0.2704442 , 0.72955585]],\n",
       "\n",
       "       [[0.1579338 , 0.8420662 ]],\n",
       "\n",
       "       [[0.20688806, 0.79311186]],\n",
       "\n",
       "       [[0.17206962, 0.8279304 ]],\n",
       "\n",
       "       [[0.1705232 , 0.8294768 ]],\n",
       "\n",
       "       [[0.19744374, 0.8025563 ]],\n",
       "\n",
       "       [[0.19476023, 0.8052398 ]],\n",
       "\n",
       "       [[0.17999135, 0.82000864]],\n",
       "\n",
       "       [[0.17982462, 0.8201754 ]],\n",
       "\n",
       "       [[0.1775317 , 0.82246834]],\n",
       "\n",
       "       [[0.18129109, 0.81870896]],\n",
       "\n",
       "       [[0.17456418, 0.8254358 ]],\n",
       "\n",
       "       [[0.16880834, 0.83119166]],\n",
       "\n",
       "       [[0.18206984, 0.8179301 ]],\n",
       "\n",
       "       [[0.1663276 , 0.83367246]],\n",
       "\n",
       "       [[0.18310212, 0.8168979 ]],\n",
       "\n",
       "       [[0.17752802, 0.822472  ]],\n",
       "\n",
       "       [[0.17029962, 0.8297004 ]],\n",
       "\n",
       "       [[0.1743623 , 0.8256377 ]],\n",
       "\n",
       "       [[0.18101807, 0.8189819 ]],\n",
       "\n",
       "       [[0.17131554, 0.82868445]],\n",
       "\n",
       "       [[0.17734256, 0.8226574 ]],\n",
       "\n",
       "       [[0.1818629 , 0.81813717]],\n",
       "\n",
       "       [[0.192852  , 0.807148  ]],\n",
       "\n",
       "       [[0.18363714, 0.8163628 ]],\n",
       "\n",
       "       [[0.1847717 , 0.8152283 ]],\n",
       "\n",
       "       [[0.18510619, 0.8148938 ]],\n",
       "\n",
       "       [[0.1705934 , 0.82940656]],\n",
       "\n",
       "       [[0.1778251 , 0.8221749 ]],\n",
       "\n",
       "       [[0.18770067, 0.8122994 ]],\n",
       "\n",
       "       [[0.17794818, 0.8220518 ]],\n",
       "\n",
       "       [[0.1679622 , 0.83203775]],\n",
       "\n",
       "       [[0.16372016, 0.83627987]],\n",
       "\n",
       "       [[0.18683405, 0.8131659 ]],\n",
       "\n",
       "       [[0.1865661 , 0.8134339 ]],\n",
       "\n",
       "       [[0.17283787, 0.8271621 ]],\n",
       "\n",
       "       [[0.19007298, 0.80992705]],\n",
       "\n",
       "       [[0.17737441, 0.8226255 ]],\n",
       "\n",
       "       [[0.18164423, 0.81835574]],\n",
       "\n",
       "       [[0.17923784, 0.82076216]],\n",
       "\n",
       "       [[0.18771371, 0.81228626]],\n",
       "\n",
       "       [[0.1779621 , 0.8220379 ]],\n",
       "\n",
       "       [[0.17610298, 0.823897  ]],\n",
       "\n",
       "       [[0.18162031, 0.8183797 ]],\n",
       "\n",
       "       [[0.1857505 , 0.81424946]],\n",
       "\n",
       "       [[0.17847818, 0.8215218 ]],\n",
       "\n",
       "       [[0.17062218, 0.8293778 ]],\n",
       "\n",
       "       [[0.17283256, 0.82716745]],\n",
       "\n",
       "       [[0.1869377 , 0.81306225]],\n",
       "\n",
       "       [[0.18284813, 0.81715184]],\n",
       "\n",
       "       [[0.17549546, 0.82450455]],\n",
       "\n",
       "       [[0.17758508, 0.8224149 ]],\n",
       "\n",
       "       [[0.17006882, 0.82993126]],\n",
       "\n",
       "       [[0.17208739, 0.8279126 ]],\n",
       "\n",
       "       [[0.20921226, 0.7907877 ]],\n",
       "\n",
       "       [[0.17470327, 0.8252967 ]],\n",
       "\n",
       "       [[0.20415096, 0.79584897]],\n",
       "\n",
       "       [[0.18010047, 0.81989956]],\n",
       "\n",
       "       [[0.18889748, 0.8111025 ]],\n",
       "\n",
       "       [[0.16661833, 0.83338165]],\n",
       "\n",
       "       [[0.16746464, 0.8325354 ]],\n",
       "\n",
       "       [[0.18273272, 0.8172673 ]],\n",
       "\n",
       "       [[0.17471126, 0.8252888 ]],\n",
       "\n",
       "       [[0.18104967, 0.8189503 ]],\n",
       "\n",
       "       [[0.188368  , 0.811632  ]],\n",
       "\n",
       "       [[0.18010004, 0.8199    ]],\n",
       "\n",
       "       [[0.17780416, 0.82219577]],\n",
       "\n",
       "       [[0.18079641, 0.8192036 ]],\n",
       "\n",
       "       [[0.18129487, 0.8187051 ]],\n",
       "\n",
       "       [[0.1830452 , 0.8169548 ]],\n",
       "\n",
       "       [[0.179015  , 0.820985  ]],\n",
       "\n",
       "       [[0.19402312, 0.80597687]],\n",
       "\n",
       "       [[0.18229361, 0.8177064 ]],\n",
       "\n",
       "       [[0.16866918, 0.8313308 ]],\n",
       "\n",
       "       [[0.18287832, 0.8171217 ]],\n",
       "\n",
       "       [[0.1829825 , 0.8170175 ]],\n",
       "\n",
       "       [[0.16522047, 0.83477956]],\n",
       "\n",
       "       [[0.18605712, 0.8139429 ]],\n",
       "\n",
       "       [[0.20887089, 0.7911291 ]],\n",
       "\n",
       "       [[0.24787036, 0.7521297 ]],\n",
       "\n",
       "       [[0.17363064, 0.8263694 ]],\n",
       "\n",
       "       [[0.18151373, 0.8184863 ]],\n",
       "\n",
       "       [[0.17577228, 0.8242277 ]],\n",
       "\n",
       "       [[0.19172084, 0.80827916]],\n",
       "\n",
       "       [[0.17815293, 0.8218471 ]],\n",
       "\n",
       "       [[0.18408583, 0.8159142 ]],\n",
       "\n",
       "       [[0.17838468, 0.82161534]],\n",
       "\n",
       "       [[0.19043943, 0.80956054]],\n",
       "\n",
       "       [[0.18013571, 0.8198643 ]],\n",
       "\n",
       "       [[0.18104775, 0.81895226]],\n",
       "\n",
       "       [[0.16295286, 0.83704716]],\n",
       "\n",
       "       [[0.16898271, 0.8310173 ]],\n",
       "\n",
       "       [[0.16583218, 0.8341678 ]],\n",
       "\n",
       "       [[0.17176259, 0.8282374 ]],\n",
       "\n",
       "       [[0.18109584, 0.81890416]],\n",
       "\n",
       "       [[0.17582309, 0.8241769 ]],\n",
       "\n",
       "       [[0.18944526, 0.81055474]],\n",
       "\n",
       "       [[0.17630006, 0.82369995]],\n",
       "\n",
       "       [[0.1619133 , 0.83808666]],\n",
       "\n",
       "       [[0.17526813, 0.8247318 ]],\n",
       "\n",
       "       [[0.17382257, 0.8261774 ]],\n",
       "\n",
       "       [[0.16613953, 0.83386046]],\n",
       "\n",
       "       [[0.18741159, 0.81258845]],\n",
       "\n",
       "       [[0.18072134, 0.81927866]],\n",
       "\n",
       "       [[0.17295387, 0.8270461 ]],\n",
       "\n",
       "       [[0.17719486, 0.82280517]],\n",
       "\n",
       "       [[0.17925264, 0.8207474 ]],\n",
       "\n",
       "       [[0.17966847, 0.82033145]],\n",
       "\n",
       "       [[0.17562354, 0.8243765 ]],\n",
       "\n",
       "       [[0.17252219, 0.8274779 ]],\n",
       "\n",
       "       [[0.17629541, 0.82370466]],\n",
       "\n",
       "       [[0.18256536, 0.8174346 ]],\n",
       "\n",
       "       [[0.16091068, 0.8390894 ]],\n",
       "\n",
       "       [[0.18141921, 0.8185808 ]],\n",
       "\n",
       "       [[0.17735957, 0.8226405 ]],\n",
       "\n",
       "       [[0.16930616, 0.83069384]],\n",
       "\n",
       "       [[0.16958678, 0.8304133 ]],\n",
       "\n",
       "       [[0.17420594, 0.8257941 ]],\n",
       "\n",
       "       [[0.1714694 , 0.8285306 ]],\n",
       "\n",
       "       [[0.17584957, 0.82415044]],\n",
       "\n",
       "       [[0.18930535, 0.8106947 ]],\n",
       "\n",
       "       [[0.17809364, 0.8219063 ]],\n",
       "\n",
       "       [[0.17925104, 0.820749  ]],\n",
       "\n",
       "       [[0.16831641, 0.8316835 ]],\n",
       "\n",
       "       [[0.16877247, 0.83122754]],\n",
       "\n",
       "       [[0.18225984, 0.81774014]],\n",
       "\n",
       "       [[0.18079974, 0.8192002 ]],\n",
       "\n",
       "       [[0.1726476 , 0.8273524 ]],\n",
       "\n",
       "       [[0.2190436 , 0.7809564 ]],\n",
       "\n",
       "       [[0.17857437, 0.8214256 ]],\n",
       "\n",
       "       [[0.17778972, 0.8222103 ]],\n",
       "\n",
       "       [[0.17509235, 0.82490766]],\n",
       "\n",
       "       [[0.1787456 , 0.82125443]],\n",
       "\n",
       "       [[0.17480303, 0.8251969 ]]], dtype=float32)"
      ]
     },
     "execution_count": 15,
     "metadata": {},
     "output_type": "execute_result"
    }
   ],
   "source": [
    "clos"
   ]
  },
  {
   "cell_type": "code",
   "execution_count": 16,
   "metadata": {},
   "outputs": [],
   "source": [
    "clos=np.reshape(clos, (190, 2))"
   ]
  },
  {
   "cell_type": "code",
   "execution_count": 17,
   "metadata": {},
   "outputs": [
    {
     "data": {
      "text/plain": [
       "array([[0.17321305, 0.826787  ],\n",
       "       [0.17692354, 0.8230765 ],\n",
       "       [0.18098162, 0.81901836],\n",
       "       [0.18843855, 0.8115614 ],\n",
       "       [0.16637728, 0.83362275],\n",
       "       [0.2022359 , 0.7977641 ],\n",
       "       [0.17409515, 0.82590485],\n",
       "       [0.1904627 , 0.80953723],\n",
       "       [0.17672372, 0.8232763 ],\n",
       "       [0.1744879 , 0.8255121 ],\n",
       "       [0.17069143, 0.82930857],\n",
       "       [0.1733216 , 0.8266784 ],\n",
       "       [0.1919626 , 0.8080374 ],\n",
       "       [0.17915218, 0.82084787],\n",
       "       [0.19022022, 0.8097798 ],\n",
       "       [0.17689066, 0.8231094 ],\n",
       "       [0.19526985, 0.8047302 ],\n",
       "       [0.17330591, 0.8266941 ],\n",
       "       [0.1865187 , 0.81348133],\n",
       "       [0.17882541, 0.82117456],\n",
       "       [0.17391154, 0.8260885 ],\n",
       "       [0.16674079, 0.8332592 ],\n",
       "       [0.16820937, 0.83179057],\n",
       "       [0.17253715, 0.82746285],\n",
       "       [0.1634994 , 0.8365006 ],\n",
       "       [0.1793804 , 0.8206196 ],\n",
       "       [0.18814462, 0.8118554 ],\n",
       "       [0.17006399, 0.829936  ],\n",
       "       [0.18015027, 0.8198497 ],\n",
       "       [0.17428425, 0.8257157 ],\n",
       "       [0.17691156, 0.82308847],\n",
       "       [0.2510667 , 0.7489333 ],\n",
       "       [0.179522  , 0.82047796],\n",
       "       [0.17044683, 0.8295531 ],\n",
       "       [0.1861794 , 0.8138206 ],\n",
       "       [0.172383  , 0.82761705],\n",
       "       [0.17518194, 0.824818  ],\n",
       "       [0.19177683, 0.8082232 ],\n",
       "       [0.19828378, 0.80171615],\n",
       "       [0.21343994, 0.78656006],\n",
       "       [0.20385504, 0.7961449 ],\n",
       "       [0.18595304, 0.81404704],\n",
       "       [0.21332231, 0.78667766],\n",
       "       [0.19180577, 0.8081942 ],\n",
       "       [0.19048846, 0.80951154],\n",
       "       [0.17688042, 0.8231195 ],\n",
       "       [0.17782228, 0.82217777],\n",
       "       [0.18398528, 0.81601465],\n",
       "       [0.18752377, 0.8124762 ],\n",
       "       [0.182909  , 0.81709105],\n",
       "       [0.1743879 , 0.8256121 ],\n",
       "       [0.17063516, 0.82936484],\n",
       "       [0.18566218, 0.81433785],\n",
       "       [0.17327286, 0.82672715],\n",
       "       [0.18998913, 0.8100108 ],\n",
       "       [0.16735062, 0.8326494 ],\n",
       "       [0.2704442 , 0.72955585],\n",
       "       [0.1579338 , 0.8420662 ],\n",
       "       [0.20688806, 0.79311186],\n",
       "       [0.17206962, 0.8279304 ],\n",
       "       [0.1705232 , 0.8294768 ],\n",
       "       [0.19744374, 0.8025563 ],\n",
       "       [0.19476023, 0.8052398 ],\n",
       "       [0.17999135, 0.82000864],\n",
       "       [0.17982462, 0.8201754 ],\n",
       "       [0.1775317 , 0.82246834],\n",
       "       [0.18129109, 0.81870896],\n",
       "       [0.17456418, 0.8254358 ],\n",
       "       [0.16880834, 0.83119166],\n",
       "       [0.18206984, 0.8179301 ],\n",
       "       [0.1663276 , 0.83367246],\n",
       "       [0.18310212, 0.8168979 ],\n",
       "       [0.17752802, 0.822472  ],\n",
       "       [0.17029962, 0.8297004 ],\n",
       "       [0.1743623 , 0.8256377 ],\n",
       "       [0.18101807, 0.8189819 ],\n",
       "       [0.17131554, 0.82868445],\n",
       "       [0.17734256, 0.8226574 ],\n",
       "       [0.1818629 , 0.81813717],\n",
       "       [0.192852  , 0.807148  ],\n",
       "       [0.18363714, 0.8163628 ],\n",
       "       [0.1847717 , 0.8152283 ],\n",
       "       [0.18510619, 0.8148938 ],\n",
       "       [0.1705934 , 0.82940656],\n",
       "       [0.1778251 , 0.8221749 ],\n",
       "       [0.18770067, 0.8122994 ],\n",
       "       [0.17794818, 0.8220518 ],\n",
       "       [0.1679622 , 0.83203775],\n",
       "       [0.16372016, 0.83627987],\n",
       "       [0.18683405, 0.8131659 ],\n",
       "       [0.1865661 , 0.8134339 ],\n",
       "       [0.17283787, 0.8271621 ],\n",
       "       [0.19007298, 0.80992705],\n",
       "       [0.17737441, 0.8226255 ],\n",
       "       [0.18164423, 0.81835574],\n",
       "       [0.17923784, 0.82076216],\n",
       "       [0.18771371, 0.81228626],\n",
       "       [0.1779621 , 0.8220379 ],\n",
       "       [0.17610298, 0.823897  ],\n",
       "       [0.18162031, 0.8183797 ],\n",
       "       [0.1857505 , 0.81424946],\n",
       "       [0.17847818, 0.8215218 ],\n",
       "       [0.17062218, 0.8293778 ],\n",
       "       [0.17283256, 0.82716745],\n",
       "       [0.1869377 , 0.81306225],\n",
       "       [0.18284813, 0.81715184],\n",
       "       [0.17549546, 0.82450455],\n",
       "       [0.17758508, 0.8224149 ],\n",
       "       [0.17006882, 0.82993126],\n",
       "       [0.17208739, 0.8279126 ],\n",
       "       [0.20921226, 0.7907877 ],\n",
       "       [0.17470327, 0.8252967 ],\n",
       "       [0.20415096, 0.79584897],\n",
       "       [0.18010047, 0.81989956],\n",
       "       [0.18889748, 0.8111025 ],\n",
       "       [0.16661833, 0.83338165],\n",
       "       [0.16746464, 0.8325354 ],\n",
       "       [0.18273272, 0.8172673 ],\n",
       "       [0.17471126, 0.8252888 ],\n",
       "       [0.18104967, 0.8189503 ],\n",
       "       [0.188368  , 0.811632  ],\n",
       "       [0.18010004, 0.8199    ],\n",
       "       [0.17780416, 0.82219577],\n",
       "       [0.18079641, 0.8192036 ],\n",
       "       [0.18129487, 0.8187051 ],\n",
       "       [0.1830452 , 0.8169548 ],\n",
       "       [0.179015  , 0.820985  ],\n",
       "       [0.19402312, 0.80597687],\n",
       "       [0.18229361, 0.8177064 ],\n",
       "       [0.16866918, 0.8313308 ],\n",
       "       [0.18287832, 0.8171217 ],\n",
       "       [0.1829825 , 0.8170175 ],\n",
       "       [0.16522047, 0.83477956],\n",
       "       [0.18605712, 0.8139429 ],\n",
       "       [0.20887089, 0.7911291 ],\n",
       "       [0.24787036, 0.7521297 ],\n",
       "       [0.17363064, 0.8263694 ],\n",
       "       [0.18151373, 0.8184863 ],\n",
       "       [0.17577228, 0.8242277 ],\n",
       "       [0.19172084, 0.80827916],\n",
       "       [0.17815293, 0.8218471 ],\n",
       "       [0.18408583, 0.8159142 ],\n",
       "       [0.17838468, 0.82161534],\n",
       "       [0.19043943, 0.80956054],\n",
       "       [0.18013571, 0.8198643 ],\n",
       "       [0.18104775, 0.81895226],\n",
       "       [0.16295286, 0.83704716],\n",
       "       [0.16898271, 0.8310173 ],\n",
       "       [0.16583218, 0.8341678 ],\n",
       "       [0.17176259, 0.8282374 ],\n",
       "       [0.18109584, 0.81890416],\n",
       "       [0.17582309, 0.8241769 ],\n",
       "       [0.18944526, 0.81055474],\n",
       "       [0.17630006, 0.82369995],\n",
       "       [0.1619133 , 0.83808666],\n",
       "       [0.17526813, 0.8247318 ],\n",
       "       [0.17382257, 0.8261774 ],\n",
       "       [0.16613953, 0.83386046],\n",
       "       [0.18741159, 0.81258845],\n",
       "       [0.18072134, 0.81927866],\n",
       "       [0.17295387, 0.8270461 ],\n",
       "       [0.17719486, 0.82280517],\n",
       "       [0.17925264, 0.8207474 ],\n",
       "       [0.17966847, 0.82033145],\n",
       "       [0.17562354, 0.8243765 ],\n",
       "       [0.17252219, 0.8274779 ],\n",
       "       [0.17629541, 0.82370466],\n",
       "       [0.18256536, 0.8174346 ],\n",
       "       [0.16091068, 0.8390894 ],\n",
       "       [0.18141921, 0.8185808 ],\n",
       "       [0.17735957, 0.8226405 ],\n",
       "       [0.16930616, 0.83069384],\n",
       "       [0.16958678, 0.8304133 ],\n",
       "       [0.17420594, 0.8257941 ],\n",
       "       [0.1714694 , 0.8285306 ],\n",
       "       [0.17584957, 0.82415044],\n",
       "       [0.18930535, 0.8106947 ],\n",
       "       [0.17809364, 0.8219063 ],\n",
       "       [0.17925104, 0.820749  ],\n",
       "       [0.16831641, 0.8316835 ],\n",
       "       [0.16877247, 0.83122754],\n",
       "       [0.18225984, 0.81774014],\n",
       "       [0.18079974, 0.8192002 ],\n",
       "       [0.1726476 , 0.8273524 ],\n",
       "       [0.2190436 , 0.7809564 ],\n",
       "       [0.17857437, 0.8214256 ],\n",
       "       [0.17778972, 0.8222103 ],\n",
       "       [0.17509235, 0.82490766],\n",
       "       [0.1787456 , 0.82125443],\n",
       "       [0.17480303, 0.8251969 ]], dtype=float32)"
      ]
     },
     "execution_count": 17,
     "metadata": {},
     "output_type": "execute_result"
    }
   ],
   "source": [
    "clos"
   ]
  },
  {
   "cell_type": "code",
   "execution_count": 18,
   "metadata": {},
   "outputs": [],
   "source": [
    "###CLOSE EYE FINISH"
   ]
  },
  {
   "cell_type": "code",
   "execution_count": 19,
   "metadata": {},
   "outputs": [],
   "source": [
    "import tensorflow as tf\n",
    "from tensorflow.keras.applications import InceptionV3\n",
    "from tensorflow.keras.models import Model\n",
    "from tensorflow.keras.layers import Dropout,Input,Flatten,Dense,MaxPooling2D\n",
    "from tensorflow.keras.preprocessing.image import ImageDataGenerator"
   ]
  },
  {
   "cell_type": "code",
   "execution_count": 20,
   "metadata": {},
   "outputs": [
    {
     "name": "stdout",
     "output_type": "stream",
     "text": [
      "Found 308 images belonging to 2 classes.\n"
     ]
    }
   ],
   "source": [
    "testing_folder = r\"C:\\Users\\Maaher\\Desktop\\New folder\\jpg data\"\n",
    "# Image size (set up the image size used for training)\n",
    "img_size = 80\n",
    "# Batch size (you should tune it based on your memory)\n",
    "batch_size = 16\n",
    "\n",
    "val_datagen = ImageDataGenerator(\n",
    "    rescale=1. / 255)\n",
    "validation_generator = val_datagen.flow_from_directory(\n",
    "    testing_folder,\n",
    "    target_size=(img_size, img_size),\n",
    "    batch_size=batch_size,\n",
    "    shuffle=False,\n",
    "    class_mode='categorical')"
   ]
  },
  {
   "cell_type": "code",
   "execution_count": 21,
   "metadata": {},
   "outputs": [
    {
     "name": "stdout",
     "output_type": "stream",
     "text": [
      "Found 308 images belonging to 2 classes.\n"
     ]
    }
   ],
   "source": [
    "test_datagen = ImageDataGenerator(rescale=1./255)\n",
    "\n",
    "test_data = test_datagen.flow_from_directory(r'C:\\Users\\Maaher\\Desktop\\New folder\\jpg data',\n",
    "                                target_size=(224,224),batch_size=8,class_mode='categorical')"
   ]
  },
  {
   "cell_type": "code",
   "execution_count": 22,
   "metadata": {},
   "outputs": [],
   "source": [
    "from sklearn.metrics import classification_report\n",
    "y_true = validation_generator.classes"
   ]
  },
  {
   "cell_type": "code",
   "execution_count": 23,
   "metadata": {},
   "outputs": [
    {
     "data": {
      "text/plain": [
       "array([0, 0, 0, 0, 0, 0, 0, 0, 0, 0, 0, 0, 0, 0, 0, 0, 0, 0, 0, 0, 0, 0,\n",
       "       0, 0, 0, 0, 0, 0, 0, 0, 0, 0, 0, 0, 0, 0, 0, 0, 0, 0, 0, 0, 0, 0,\n",
       "       0, 0, 0, 0, 0, 0, 0, 0, 0, 0, 0, 0, 0, 0, 0, 0, 0, 0, 0, 0, 0, 0,\n",
       "       0, 0, 0, 0, 0, 0, 0, 0, 0, 0, 0, 0, 0, 0, 0, 0, 0, 0, 0, 0, 0, 0,\n",
       "       0, 0, 0, 0, 0, 0, 0, 0, 0, 0, 0, 0, 0, 0, 0, 0, 0, 0, 0, 0, 0, 0,\n",
       "       0, 0, 0, 0, 0, 0, 0, 0, 0, 0, 0, 0, 0, 0, 0, 0, 0, 0, 0, 0, 0, 0,\n",
       "       0, 0, 0, 0, 0, 0, 0, 0, 0, 0, 0, 0, 0, 0, 0, 0, 0, 0, 0, 0, 0, 0,\n",
       "       0, 0, 0, 0, 0, 0, 0, 0, 0, 0, 0, 0, 0, 0, 0, 0, 0, 0, 0, 0, 0, 0,\n",
       "       0, 0, 0, 0, 0, 0, 0, 0, 0, 0, 0, 0, 0, 0, 1, 1, 1, 1, 1, 1, 1, 1,\n",
       "       1, 1, 1, 1, 1, 1, 1, 1, 1, 1, 1, 1, 1, 1, 1, 1, 1, 1, 1, 1, 1, 1,\n",
       "       1, 1, 1, 1, 1, 1, 1, 1, 1, 1, 1, 1, 1, 1, 1, 1, 1, 1, 1, 1, 1, 1,\n",
       "       1, 1, 1, 1, 1, 1, 1, 1, 1, 1, 1, 1, 1, 1, 1, 1, 1, 1, 1, 1, 1, 1,\n",
       "       1, 1, 1, 1, 1, 1, 1, 1, 1, 1, 1, 1, 1, 1, 1, 1, 1, 1, 1, 1, 1, 1,\n",
       "       1, 1, 1, 1, 1, 1, 1, 1, 1, 1, 1, 1, 1, 1, 1, 1, 1, 1, 1, 1, 1, 1])"
      ]
     },
     "execution_count": 23,
     "metadata": {},
     "output_type": "execute_result"
    }
   ],
   "source": [
    "y_true"
   ]
  },
  {
   "cell_type": "code",
   "execution_count": 24,
   "metadata": {},
   "outputs": [
    {
     "name": "stdout",
     "output_type": "stream",
     "text": [
      "(308,)\n"
     ]
    }
   ],
   "source": [
    "print(y_true.shape)"
   ]
  },
  {
   "cell_type": "code",
   "execution_count": 42,
   "metadata": {},
   "outputs": [],
   "source": [
    "mythreshold=.823338\n",
    "from sklearn.metrics import confusion_matrix\n",
    "\n",
    "y_pred = (clos[:,0]>= mythreshold).astype(int)"
   ]
  },
  {
   "cell_type": "code",
   "execution_count": 43,
   "metadata": {},
   "outputs": [
    {
     "data": {
      "text/plain": [
       "array([0, 0, 0, 0, 0, 0, 0, 0, 0, 0, 0, 0, 0, 0, 0, 0, 0, 0, 0, 0, 0, 0,\n",
       "       0, 0, 0, 0, 0, 0, 0, 0, 0, 0, 0, 0, 0, 0, 0, 0, 0, 0, 0, 0, 0, 0,\n",
       "       0, 0, 0, 0, 0, 0, 0, 0, 0, 0, 0, 0, 0, 0, 0, 0, 0, 0, 0, 0, 0, 0,\n",
       "       0, 0, 0, 0, 0, 0, 0, 0, 0, 0, 0, 0, 0, 0, 0, 0, 0, 0, 0, 0, 0, 0,\n",
       "       0, 0, 0, 0, 0, 0, 0, 0, 0, 0, 0, 0, 0, 0, 0, 0, 0, 0, 0, 0, 0, 0,\n",
       "       0, 0, 0, 0, 0, 0, 0, 0, 0, 0, 0, 0, 0, 0, 0, 0, 0, 0, 0, 0, 0, 0,\n",
       "       0, 0, 0, 0, 0, 0, 0, 0, 0, 0, 0, 0, 0, 0, 0, 0, 0, 0, 0, 0, 0, 0,\n",
       "       0, 0, 0, 0, 0, 0, 0, 0, 0, 0, 0, 0, 0, 0, 0, 0, 0, 0, 0, 0, 0, 0,\n",
       "       0, 0, 0, 0, 0, 0, 0, 0, 0, 0, 0, 0, 0, 0])"
      ]
     },
     "execution_count": 43,
     "metadata": {},
     "output_type": "execute_result"
    }
   ],
   "source": [
    "y_pred"
   ]
  },
  {
   "cell_type": "code",
   "execution_count": 27,
   "metadata": {},
   "outputs": [],
   "source": [
    "from sklearn.metrics import roc_curve\n",
    "\n",
    "y_preds = clos[:,0].ravel()"
   ]
  },
  {
   "cell_type": "code",
   "execution_count": 28,
   "metadata": {},
   "outputs": [
    {
     "data": {
      "text/plain": [
       "array([0.17321305, 0.17692354, 0.18098162, 0.18843855, 0.16637728,\n",
       "       0.2022359 , 0.17409515, 0.1904627 , 0.17672372, 0.1744879 ,\n",
       "       0.17069143, 0.1733216 , 0.1919626 , 0.17915218, 0.19022022,\n",
       "       0.17689066, 0.19526985, 0.17330591, 0.1865187 , 0.17882541,\n",
       "       0.17391154, 0.16674079, 0.16820937, 0.17253715, 0.1634994 ,\n",
       "       0.1793804 , 0.18814462, 0.17006399, 0.18015027, 0.17428425,\n",
       "       0.17691156, 0.2510667 , 0.179522  , 0.17044683, 0.1861794 ,\n",
       "       0.172383  , 0.17518194, 0.19177683, 0.19828378, 0.21343994,\n",
       "       0.20385504, 0.18595304, 0.21332231, 0.19180577, 0.19048846,\n",
       "       0.17688042, 0.17782228, 0.18398528, 0.18752377, 0.182909  ,\n",
       "       0.1743879 , 0.17063516, 0.18566218, 0.17327286, 0.18998913,\n",
       "       0.16735062, 0.2704442 , 0.1579338 , 0.20688806, 0.17206962,\n",
       "       0.1705232 , 0.19744374, 0.19476023, 0.17999135, 0.17982462,\n",
       "       0.1775317 , 0.18129109, 0.17456418, 0.16880834, 0.18206984,\n",
       "       0.1663276 , 0.18310212, 0.17752802, 0.17029962, 0.1743623 ,\n",
       "       0.18101807, 0.17131554, 0.17734256, 0.1818629 , 0.192852  ,\n",
       "       0.18363714, 0.1847717 , 0.18510619, 0.1705934 , 0.1778251 ,\n",
       "       0.18770067, 0.17794818, 0.1679622 , 0.16372016, 0.18683405,\n",
       "       0.1865661 , 0.17283787, 0.19007298, 0.17737441, 0.18164423,\n",
       "       0.17923784, 0.18771371, 0.1779621 , 0.17610298, 0.18162031,\n",
       "       0.1857505 , 0.17847818, 0.17062218, 0.17283256, 0.1869377 ,\n",
       "       0.18284813, 0.17549546, 0.17758508, 0.17006882, 0.17208739,\n",
       "       0.20921226, 0.17470327, 0.20415096, 0.18010047, 0.18889748,\n",
       "       0.16661833, 0.16746464, 0.18273272, 0.17471126, 0.18104967,\n",
       "       0.188368  , 0.18010004, 0.17780416, 0.18079641, 0.18129487,\n",
       "       0.1830452 , 0.179015  , 0.19402312, 0.18229361, 0.16866918,\n",
       "       0.18287832, 0.1829825 , 0.16522047, 0.18605712, 0.20887089,\n",
       "       0.24787036, 0.17363064, 0.18151373, 0.17577228, 0.19172084,\n",
       "       0.17815293, 0.18408583, 0.17838468, 0.19043943, 0.18013571,\n",
       "       0.18104775, 0.16295286, 0.16898271, 0.16583218, 0.17176259,\n",
       "       0.18109584, 0.17582309, 0.18944526, 0.17630006, 0.1619133 ,\n",
       "       0.17526813, 0.17382257, 0.16613953, 0.18741159, 0.18072134,\n",
       "       0.17295387, 0.17719486, 0.17925264, 0.17966847, 0.17562354,\n",
       "       0.17252219, 0.17629541, 0.18256536, 0.16091068, 0.18141921,\n",
       "       0.17735957, 0.16930616, 0.16958678, 0.17420594, 0.1714694 ,\n",
       "       0.17584957, 0.18930535, 0.17809364, 0.17925104, 0.16831641,\n",
       "       0.16877247, 0.18225984, 0.18079974, 0.1726476 , 0.2190436 ,\n",
       "       0.17857437, 0.17778972, 0.17509235, 0.1787456 , 0.17480303],\n",
       "      dtype=float32)"
      ]
     },
     "execution_count": 28,
     "metadata": {},
     "output_type": "execute_result"
    }
   ],
   "source": [
    "y_preds"
   ]
  },
  {
   "cell_type": "code",
   "execution_count": 29,
   "metadata": {},
   "outputs": [],
   "source": [
    "from keras.models import load_model\n",
    "from keras.preprocessing import image\n",
    "import matplotlib.pyplot as plt\n",
    "import numpy as np\n",
    "import os\n",
    "import glob\n",
    "\n",
    "\n",
    "def load_image(img_path, show=False):\n",
    "\n",
    "    img = image.load_img(img_path, target_size=(224, 224))\n",
    "    img_tensor = image.img_to_array(img)                    # (height, width, channels)\n",
    "    img_tensor = np.expand_dims(img_tensor, axis=0)         # (1, height, width, channels), add a dimension because the model expects this shape: (batch_size, height, width, channels)\n",
    "    img_tensor /= 255.                                      # imshow expects values in the range [0, 1]\n",
    "\n",
    "    if show:\n",
    "        plt.imshow(img_tensor[0])                           \n",
    "        plt.axis('off')\n",
    "        plt.show()\n",
    "\n",
    "    return img_tensor\n",
    "\n",
    "\n",
    "if __name__ == \"__main__\":\n",
    "\n",
    "    # load model\n",
    "    ope =[]\n",
    "for f in glob.glob(r'C:\\Users\\Maaher\\Desktop\\New folder\\jpg data\\Strokeface\\*.jpg') :\n",
    "      \n",
    "    # image path\n",
    "    \n",
    "    #img_path = '/media/data/dogscats/test1/19.jpg'      # cat\n",
    "\n",
    "    # load a single image\n",
    "           new_image = load_image(f)\n",
    "\n",
    "    # check prediction\n",
    "           pred = model.predict(new_image)\n",
    "           ope.append(pred)"
   ]
  },
  {
   "cell_type": "code",
   "execution_count": 30,
   "metadata": {},
   "outputs": [
    {
     "data": {
      "text/plain": [
       "[array([[0.21509217, 0.7849078 ]], dtype=float32),\n",
       " array([[0.17588528, 0.82411474]], dtype=float32),\n",
       " array([[0.20817865, 0.79182136]], dtype=float32),\n",
       " array([[0.26298422, 0.73701584]], dtype=float32),\n",
       " array([[0.18605293, 0.8139471 ]], dtype=float32),\n",
       " array([[0.17746912, 0.82253087]], dtype=float32),\n",
       " array([[0.17573197, 0.82426804]], dtype=float32),\n",
       " array([[0.19807388, 0.80192614]], dtype=float32),\n",
       " array([[0.17375067, 0.82624936]], dtype=float32),\n",
       " array([[0.18598421, 0.8140158 ]], dtype=float32),\n",
       " array([[0.18276395, 0.81723607]], dtype=float32),\n",
       " array([[0.19077827, 0.80922174]], dtype=float32),\n",
       " array([[0.17728284, 0.8227172 ]], dtype=float32),\n",
       " array([[0.16270038, 0.8372996 ]], dtype=float32),\n",
       " array([[0.1903123, 0.8096877]], dtype=float32),\n",
       " array([[0.158151, 0.841849]], dtype=float32),\n",
       " array([[0.17173322, 0.8282668 ]], dtype=float32),\n",
       " array([[0.1770102, 0.8229899]], dtype=float32),\n",
       " array([[0.16810273, 0.8318973 ]], dtype=float32),\n",
       " array([[0.17224428, 0.8277557 ]], dtype=float32),\n",
       " array([[0.16214462, 0.8378554 ]], dtype=float32),\n",
       " array([[0.18273623, 0.8172638 ]], dtype=float32),\n",
       " array([[0.18387568, 0.8161243 ]], dtype=float32),\n",
       " array([[0.16580507, 0.8341949 ]], dtype=float32),\n",
       " array([[0.1711844, 0.8288156]], dtype=float32),\n",
       " array([[0.19224602, 0.807754  ]], dtype=float32),\n",
       " array([[0.17176853, 0.82823145]], dtype=float32),\n",
       " array([[0.17183165, 0.82816833]], dtype=float32),\n",
       " array([[0.18703078, 0.8129692 ]], dtype=float32),\n",
       " array([[0.17221147, 0.82778853]], dtype=float32),\n",
       " array([[0.16131575, 0.83868426]], dtype=float32),\n",
       " array([[0.17642836, 0.8235716 ]], dtype=float32),\n",
       " array([[0.19143356, 0.8085664 ]], dtype=float32),\n",
       " array([[0.19095427, 0.8090457 ]], dtype=float32),\n",
       " array([[0.17029384, 0.82970613]], dtype=float32),\n",
       " array([[0.17701401, 0.82298595]], dtype=float32),\n",
       " array([[0.17481363, 0.8251864 ]], dtype=float32),\n",
       " array([[0.1776484, 0.8223516]], dtype=float32),\n",
       " array([[0.17664729, 0.8233527 ]], dtype=float32),\n",
       " array([[0.15844315, 0.8415568 ]], dtype=float32),\n",
       " array([[0.16444853, 0.8355515 ]], dtype=float32),\n",
       " array([[0.16280083, 0.83719915]], dtype=float32),\n",
       " array([[0.16990934, 0.83009064]], dtype=float32),\n",
       " array([[0.16108797, 0.83891207]], dtype=float32),\n",
       " array([[0.16422045, 0.83577955]], dtype=float32),\n",
       " array([[0.17666185, 0.82333815]], dtype=float32),\n",
       " array([[0.15185642, 0.8481436 ]], dtype=float32),\n",
       " array([[0.15841657, 0.84158343]], dtype=float32),\n",
       " array([[0.16659987, 0.83340013]], dtype=float32),\n",
       " array([[0.15754676, 0.8424533 ]], dtype=float32),\n",
       " array([[0.15776956, 0.8422304 ]], dtype=float32),\n",
       " array([[0.16862781, 0.8313722 ]], dtype=float32),\n",
       " array([[0.16528244, 0.8347176 ]], dtype=float32),\n",
       " array([[0.15072916, 0.8492708 ]], dtype=float32),\n",
       " array([[0.16159599, 0.83840406]], dtype=float32),\n",
       " array([[0.1531773 , 0.84682274]], dtype=float32),\n",
       " array([[0.19025762, 0.8097424 ]], dtype=float32),\n",
       " array([[0.17265396, 0.827346  ]], dtype=float32),\n",
       " array([[0.20702223, 0.79297775]], dtype=float32),\n",
       " array([[0.18021238, 0.8197876 ]], dtype=float32),\n",
       " array([[0.17774673, 0.8222533 ]], dtype=float32),\n",
       " array([[0.21941349, 0.7805865 ]], dtype=float32),\n",
       " array([[0.19225052, 0.8077495 ]], dtype=float32),\n",
       " array([[0.1902871, 0.8097129]], dtype=float32),\n",
       " array([[0.18565516, 0.8143449 ]], dtype=float32),\n",
       " array([[0.1667427, 0.8332573]], dtype=float32),\n",
       " array([[0.18898661, 0.81101334]], dtype=float32),\n",
       " array([[0.16346638, 0.83653367]], dtype=float32),\n",
       " array([[0.16673695, 0.83326304]], dtype=float32),\n",
       " array([[0.15926751, 0.84073246]], dtype=float32),\n",
       " array([[0.17502724, 0.8249728 ]], dtype=float32),\n",
       " array([[0.1880104, 0.8119896]], dtype=float32),\n",
       " array([[0.16321003, 0.8367899 ]], dtype=float32),\n",
       " array([[0.17588608, 0.82411397]], dtype=float32),\n",
       " array([[0.16454403, 0.83545595]], dtype=float32),\n",
       " array([[0.17266952, 0.82733047]], dtype=float32),\n",
       " array([[0.16193676, 0.83806324]], dtype=float32),\n",
       " array([[0.1887142, 0.8112858]], dtype=float32),\n",
       " array([[0.18919338, 0.8108066 ]], dtype=float32),\n",
       " array([[0.29507536, 0.7049247 ]], dtype=float32),\n",
       " array([[0.19177273, 0.8082273 ]], dtype=float32),\n",
       " array([[0.15561706, 0.8443829 ]], dtype=float32),\n",
       " array([[0.15601501, 0.84398496]], dtype=float32),\n",
       " array([[0.17168316, 0.8283168 ]], dtype=float32),\n",
       " array([[0.17016414, 0.82983583]], dtype=float32),\n",
       " array([[0.16206887, 0.8379311 ]], dtype=float32),\n",
       " array([[0.16300085, 0.8369991 ]], dtype=float32),\n",
       " array([[0.17812556, 0.82187444]], dtype=float32),\n",
       " array([[0.15549497, 0.8445051 ]], dtype=float32),\n",
       " array([[0.16652933, 0.83347064]], dtype=float32),\n",
       " array([[0.16217627, 0.83782375]], dtype=float32),\n",
       " array([[0.16214249, 0.83785754]], dtype=float32),\n",
       " array([[0.15982899, 0.840171  ]], dtype=float32),\n",
       " array([[0.16630045, 0.8336995 ]], dtype=float32),\n",
       " array([[0.16426413, 0.8357359 ]], dtype=float32),\n",
       " array([[0.1522505, 0.8477495]], dtype=float32),\n",
       " array([[0.19542399, 0.80457604]], dtype=float32),\n",
       " array([[0.17017539, 0.82982457]], dtype=float32),\n",
       " array([[0.1520463 , 0.84795374]], dtype=float32),\n",
       " array([[0.15235157, 0.84764844]], dtype=float32),\n",
       " array([[0.15660337, 0.8433966 ]], dtype=float32),\n",
       " array([[0.1581344, 0.8418656]], dtype=float32),\n",
       " array([[0.15794171, 0.84205824]], dtype=float32),\n",
       " array([[0.17585902, 0.82414097]], dtype=float32),\n",
       " array([[0.24459584, 0.7554042 ]], dtype=float32),\n",
       " array([[0.21840891, 0.7815911 ]], dtype=float32),\n",
       " array([[0.19649285, 0.80350715]], dtype=float32),\n",
       " array([[0.16552266, 0.83447737]], dtype=float32),\n",
       " array([[0.16015008, 0.8398499 ]], dtype=float32),\n",
       " array([[0.17090279, 0.8290972 ]], dtype=float32),\n",
       " array([[0.20280059, 0.7971994 ]], dtype=float32),\n",
       " array([[0.18800133, 0.81199867]], dtype=float32),\n",
       " array([[0.27666312, 0.7233368 ]], dtype=float32),\n",
       " array([[0.15822077, 0.84177923]], dtype=float32),\n",
       " array([[0.16089739, 0.8391026 ]], dtype=float32),\n",
       " array([[0.1608353 , 0.83916473]], dtype=float32),\n",
       " array([[0.19893718, 0.8010628 ]], dtype=float32),\n",
       " array([[0.23909475, 0.76090527]], dtype=float32)]"
      ]
     },
     "execution_count": 30,
     "metadata": {},
     "output_type": "execute_result"
    }
   ],
   "source": [
    "ope"
   ]
  },
  {
   "cell_type": "code",
   "execution_count": 31,
   "metadata": {},
   "outputs": [],
   "source": [
    "import numpy as np\n",
    "ope = np.array(ope)"
   ]
  },
  {
   "cell_type": "code",
   "execution_count": 32,
   "metadata": {},
   "outputs": [],
   "source": [
    "ope=np.reshape(ope, (118, 2))"
   ]
  },
  {
   "cell_type": "code",
   "execution_count": 33,
   "metadata": {},
   "outputs": [
    {
     "data": {
      "text/plain": [
       "array([[0.21509217, 0.7849078 ],\n",
       "       [0.17588528, 0.82411474],\n",
       "       [0.20817865, 0.79182136],\n",
       "       [0.26298422, 0.73701584],\n",
       "       [0.18605293, 0.8139471 ],\n",
       "       [0.17746912, 0.82253087],\n",
       "       [0.17573197, 0.82426804],\n",
       "       [0.19807388, 0.80192614],\n",
       "       [0.17375067, 0.82624936],\n",
       "       [0.18598421, 0.8140158 ],\n",
       "       [0.18276395, 0.81723607],\n",
       "       [0.19077827, 0.80922174],\n",
       "       [0.17728284, 0.8227172 ],\n",
       "       [0.16270038, 0.8372996 ],\n",
       "       [0.1903123 , 0.8096877 ],\n",
       "       [0.158151  , 0.841849  ],\n",
       "       [0.17173322, 0.8282668 ],\n",
       "       [0.1770102 , 0.8229899 ],\n",
       "       [0.16810273, 0.8318973 ],\n",
       "       [0.17224428, 0.8277557 ],\n",
       "       [0.16214462, 0.8378554 ],\n",
       "       [0.18273623, 0.8172638 ],\n",
       "       [0.18387568, 0.8161243 ],\n",
       "       [0.16580507, 0.8341949 ],\n",
       "       [0.1711844 , 0.8288156 ],\n",
       "       [0.19224602, 0.807754  ],\n",
       "       [0.17176853, 0.82823145],\n",
       "       [0.17183165, 0.82816833],\n",
       "       [0.18703078, 0.8129692 ],\n",
       "       [0.17221147, 0.82778853],\n",
       "       [0.16131575, 0.83868426],\n",
       "       [0.17642836, 0.8235716 ],\n",
       "       [0.19143356, 0.8085664 ],\n",
       "       [0.19095427, 0.8090457 ],\n",
       "       [0.17029384, 0.82970613],\n",
       "       [0.17701401, 0.82298595],\n",
       "       [0.17481363, 0.8251864 ],\n",
       "       [0.1776484 , 0.8223516 ],\n",
       "       [0.17664729, 0.8233527 ],\n",
       "       [0.15844315, 0.8415568 ],\n",
       "       [0.16444853, 0.8355515 ],\n",
       "       [0.16280083, 0.83719915],\n",
       "       [0.16990934, 0.83009064],\n",
       "       [0.16108797, 0.83891207],\n",
       "       [0.16422045, 0.83577955],\n",
       "       [0.17666185, 0.82333815],\n",
       "       [0.15185642, 0.8481436 ],\n",
       "       [0.15841657, 0.84158343],\n",
       "       [0.16659987, 0.83340013],\n",
       "       [0.15754676, 0.8424533 ],\n",
       "       [0.15776956, 0.8422304 ],\n",
       "       [0.16862781, 0.8313722 ],\n",
       "       [0.16528244, 0.8347176 ],\n",
       "       [0.15072916, 0.8492708 ],\n",
       "       [0.16159599, 0.83840406],\n",
       "       [0.1531773 , 0.84682274],\n",
       "       [0.19025762, 0.8097424 ],\n",
       "       [0.17265396, 0.827346  ],\n",
       "       [0.20702223, 0.79297775],\n",
       "       [0.18021238, 0.8197876 ],\n",
       "       [0.17774673, 0.8222533 ],\n",
       "       [0.21941349, 0.7805865 ],\n",
       "       [0.19225052, 0.8077495 ],\n",
       "       [0.1902871 , 0.8097129 ],\n",
       "       [0.18565516, 0.8143449 ],\n",
       "       [0.1667427 , 0.8332573 ],\n",
       "       [0.18898661, 0.81101334],\n",
       "       [0.16346638, 0.83653367],\n",
       "       [0.16673695, 0.83326304],\n",
       "       [0.15926751, 0.84073246],\n",
       "       [0.17502724, 0.8249728 ],\n",
       "       [0.1880104 , 0.8119896 ],\n",
       "       [0.16321003, 0.8367899 ],\n",
       "       [0.17588608, 0.82411397],\n",
       "       [0.16454403, 0.83545595],\n",
       "       [0.17266952, 0.82733047],\n",
       "       [0.16193676, 0.83806324],\n",
       "       [0.1887142 , 0.8112858 ],\n",
       "       [0.18919338, 0.8108066 ],\n",
       "       [0.29507536, 0.7049247 ],\n",
       "       [0.19177273, 0.8082273 ],\n",
       "       [0.15561706, 0.8443829 ],\n",
       "       [0.15601501, 0.84398496],\n",
       "       [0.17168316, 0.8283168 ],\n",
       "       [0.17016414, 0.82983583],\n",
       "       [0.16206887, 0.8379311 ],\n",
       "       [0.16300085, 0.8369991 ],\n",
       "       [0.17812556, 0.82187444],\n",
       "       [0.15549497, 0.8445051 ],\n",
       "       [0.16652933, 0.83347064],\n",
       "       [0.16217627, 0.83782375],\n",
       "       [0.16214249, 0.83785754],\n",
       "       [0.15982899, 0.840171  ],\n",
       "       [0.16630045, 0.8336995 ],\n",
       "       [0.16426413, 0.8357359 ],\n",
       "       [0.1522505 , 0.8477495 ],\n",
       "       [0.19542399, 0.80457604],\n",
       "       [0.17017539, 0.82982457],\n",
       "       [0.1520463 , 0.84795374],\n",
       "       [0.15235157, 0.84764844],\n",
       "       [0.15660337, 0.8433966 ],\n",
       "       [0.1581344 , 0.8418656 ],\n",
       "       [0.15794171, 0.84205824],\n",
       "       [0.17585902, 0.82414097],\n",
       "       [0.24459584, 0.7554042 ],\n",
       "       [0.21840891, 0.7815911 ],\n",
       "       [0.19649285, 0.80350715],\n",
       "       [0.16552266, 0.83447737],\n",
       "       [0.16015008, 0.8398499 ],\n",
       "       [0.17090279, 0.8290972 ],\n",
       "       [0.20280059, 0.7971994 ],\n",
       "       [0.18800133, 0.81199867],\n",
       "       [0.27666312, 0.7233368 ],\n",
       "       [0.15822077, 0.84177923],\n",
       "       [0.16089739, 0.8391026 ],\n",
       "       [0.1608353 , 0.83916473],\n",
       "       [0.19893718, 0.8010628 ],\n",
       "       [0.23909475, 0.76090527]], dtype=float32)"
      ]
     },
     "execution_count": 33,
     "metadata": {},
     "output_type": "execute_result"
    }
   ],
   "source": [
    "ope"
   ]
  },
  {
   "cell_type": "code",
   "execution_count": 47,
   "metadata": {},
   "outputs": [],
   "source": [
    "alll=np.concatenate((clos[:,0], ope[:,1]))"
   ]
  },
  {
   "cell_type": "code",
   "execution_count": 48,
   "metadata": {},
   "outputs": [
    {
     "data": {
      "text/plain": [
       "array([0.17321305, 0.17692354, 0.18098162, 0.18843855, 0.16637728,\n",
       "       0.2022359 , 0.17409515, 0.1904627 , 0.17672372, 0.1744879 ,\n",
       "       0.17069143, 0.1733216 , 0.1919626 , 0.17915218, 0.19022022,\n",
       "       0.17689066, 0.19526985, 0.17330591, 0.1865187 , 0.17882541,\n",
       "       0.17391154, 0.16674079, 0.16820937, 0.17253715, 0.1634994 ,\n",
       "       0.1793804 , 0.18814462, 0.17006399, 0.18015027, 0.17428425,\n",
       "       0.17691156, 0.2510667 , 0.179522  , 0.17044683, 0.1861794 ,\n",
       "       0.172383  , 0.17518194, 0.19177683, 0.19828378, 0.21343994,\n",
       "       0.20385504, 0.18595304, 0.21332231, 0.19180577, 0.19048846,\n",
       "       0.17688042, 0.17782228, 0.18398528, 0.18752377, 0.182909  ,\n",
       "       0.1743879 , 0.17063516, 0.18566218, 0.17327286, 0.18998913,\n",
       "       0.16735062, 0.2704442 , 0.1579338 , 0.20688806, 0.17206962,\n",
       "       0.1705232 , 0.19744374, 0.19476023, 0.17999135, 0.17982462,\n",
       "       0.1775317 , 0.18129109, 0.17456418, 0.16880834, 0.18206984,\n",
       "       0.1663276 , 0.18310212, 0.17752802, 0.17029962, 0.1743623 ,\n",
       "       0.18101807, 0.17131554, 0.17734256, 0.1818629 , 0.192852  ,\n",
       "       0.18363714, 0.1847717 , 0.18510619, 0.1705934 , 0.1778251 ,\n",
       "       0.18770067, 0.17794818, 0.1679622 , 0.16372016, 0.18683405,\n",
       "       0.1865661 , 0.17283787, 0.19007298, 0.17737441, 0.18164423,\n",
       "       0.17923784, 0.18771371, 0.1779621 , 0.17610298, 0.18162031,\n",
       "       0.1857505 , 0.17847818, 0.17062218, 0.17283256, 0.1869377 ,\n",
       "       0.18284813, 0.17549546, 0.17758508, 0.17006882, 0.17208739,\n",
       "       0.20921226, 0.17470327, 0.20415096, 0.18010047, 0.18889748,\n",
       "       0.16661833, 0.16746464, 0.18273272, 0.17471126, 0.18104967,\n",
       "       0.188368  , 0.18010004, 0.17780416, 0.18079641, 0.18129487,\n",
       "       0.1830452 , 0.179015  , 0.19402312, 0.18229361, 0.16866918,\n",
       "       0.18287832, 0.1829825 , 0.16522047, 0.18605712, 0.20887089,\n",
       "       0.24787036, 0.17363064, 0.18151373, 0.17577228, 0.19172084,\n",
       "       0.17815293, 0.18408583, 0.17838468, 0.19043943, 0.18013571,\n",
       "       0.18104775, 0.16295286, 0.16898271, 0.16583218, 0.17176259,\n",
       "       0.18109584, 0.17582309, 0.18944526, 0.17630006, 0.1619133 ,\n",
       "       0.17526813, 0.17382257, 0.16613953, 0.18741159, 0.18072134,\n",
       "       0.17295387, 0.17719486, 0.17925264, 0.17966847, 0.17562354,\n",
       "       0.17252219, 0.17629541, 0.18256536, 0.16091068, 0.18141921,\n",
       "       0.17735957, 0.16930616, 0.16958678, 0.17420594, 0.1714694 ,\n",
       "       0.17584957, 0.18930535, 0.17809364, 0.17925104, 0.16831641,\n",
       "       0.16877247, 0.18225984, 0.18079974, 0.1726476 , 0.2190436 ,\n",
       "       0.17857437, 0.17778972, 0.17509235, 0.1787456 , 0.17480303,\n",
       "       0.7849078 , 0.82411474, 0.79182136, 0.73701584, 0.8139471 ,\n",
       "       0.82253087, 0.82426804, 0.80192614, 0.82624936, 0.8140158 ,\n",
       "       0.81723607, 0.80922174, 0.8227172 , 0.8372996 , 0.8096877 ,\n",
       "       0.841849  , 0.8282668 , 0.8229899 , 0.8318973 , 0.8277557 ,\n",
       "       0.8378554 , 0.8172638 , 0.8161243 , 0.8341949 , 0.8288156 ,\n",
       "       0.807754  , 0.82823145, 0.82816833, 0.8129692 , 0.82778853,\n",
       "       0.83868426, 0.8235716 , 0.8085664 , 0.8090457 , 0.82970613,\n",
       "       0.82298595, 0.8251864 , 0.8223516 , 0.8233527 , 0.8415568 ,\n",
       "       0.8355515 , 0.83719915, 0.83009064, 0.83891207, 0.83577955,\n",
       "       0.82333815, 0.8481436 , 0.84158343, 0.83340013, 0.8424533 ,\n",
       "       0.8422304 , 0.8313722 , 0.8347176 , 0.8492708 , 0.83840406,\n",
       "       0.84682274, 0.8097424 , 0.827346  , 0.79297775, 0.8197876 ,\n",
       "       0.8222533 , 0.7805865 , 0.8077495 , 0.8097129 , 0.8143449 ,\n",
       "       0.8332573 , 0.81101334, 0.83653367, 0.83326304, 0.84073246,\n",
       "       0.8249728 , 0.8119896 , 0.8367899 , 0.82411397, 0.83545595,\n",
       "       0.82733047, 0.83806324, 0.8112858 , 0.8108066 , 0.7049247 ,\n",
       "       0.8082273 , 0.8443829 , 0.84398496, 0.8283168 , 0.82983583,\n",
       "       0.8379311 , 0.8369991 , 0.82187444, 0.8445051 , 0.83347064,\n",
       "       0.83782375, 0.83785754, 0.840171  , 0.8336995 , 0.8357359 ,\n",
       "       0.8477495 , 0.80457604, 0.82982457, 0.84795374, 0.84764844,\n",
       "       0.8433966 , 0.8418656 , 0.84205824, 0.82414097, 0.7554042 ,\n",
       "       0.7815911 , 0.80350715, 0.83447737, 0.8398499 , 0.8290972 ,\n",
       "       0.7971994 , 0.81199867, 0.7233368 , 0.84177923, 0.8391026 ,\n",
       "       0.83916473, 0.8010628 , 0.76090527], dtype=float32)"
      ]
     },
     "execution_count": 48,
     "metadata": {},
     "output_type": "execute_result"
    }
   ],
   "source": [
    "alll"
   ]
  },
  {
   "cell_type": "code",
   "execution_count": 49,
   "metadata": {},
   "outputs": [
    {
     "data": {
      "image/png": "[encoded data removed]",
      "text/plain": [
       "<Figure size 432x288 with 1 Axes>"
      ]
     },
     "metadata": {
      "needs_background": "light"
     },
     "output_type": "display_data"
    }
   ],
   "source": [
    "fpr, tpr, thresholds = roc_curve(y_true, alll)\n",
    "plt.figure(1)\n",
    "plt.plot([0, 1], [0, 1], 'y--')\n",
    "plt.plot(fpr, tpr, marker='.')\n",
    "plt.xlabel('False positive rate')\n",
    "plt.ylabel('True positive rate')\n",
    "plt.title('ROC curve')\n",
    "plt.show()"
   ]
  },
  {
   "cell_type": "code",
   "execution_count": 50,
   "metadata": {},
   "outputs": [
    {
     "name": "stdout",
     "output_type": "stream",
     "text": [
      "Area under curve, AUC =  1.0\n"
     ]
    }
   ],
   "source": [
    "from sklearn.metrics import auc\n",
    "auc_value = auc(fpr, tpr)\n",
    "print(\"Area under curve, AUC = \", auc_value)"
   ]
  },
  {
   "cell_type": "code",
   "execution_count": 51,
   "metadata": {},
   "outputs": [
    {
     "name": "stdout",
     "output_type": "stream",
     "text": [
      "Ideal threshold is:  2    0.704925\n",
      "Name: thresholds, dtype: float32\n"
     ]
    }
   ],
   "source": [
    "import pandas as pd\n",
    "i = np.arange(len(tpr)) \n",
    "roc = pd.DataFrame({'tf' : pd.Series(tpr-(1-fpr), index=i), 'thresholds' : pd.Series(thresholds, index=i)})\n",
    "ideal_roc_thresh = roc.iloc[(roc.tf-0).abs().argsort()[:1]]  #Locate the point where the value is close to 0\n",
    "print(\"Ideal threshold is: \", ideal_roc_thresh['thresholds'])"
   ]
  },
  {
   "cell_type": "code",
   "execution_count": 52,
   "metadata": {},
   "outputs": [],
   "source": [
    "from sklearn.metrics import confusion_matrix\n",
    "\n",
    "mythreshold=0.704925\n",
    "\n",
    "\n",
    "y_pred = (alll>= mythreshold).astype(int)\n",
    "cm=confusion_matrix(y_true, y_pred)  "
   ]
  },
  {
   "cell_type": "code",
   "execution_count": 53,
   "metadata": {},
   "outputs": [
    {
     "data": {
      "text/plain": [
       "array([[190,   0],\n",
       "       [  1, 117]], dtype=int64)"
      ]
     },
     "execution_count": 53,
     "metadata": {},
     "output_type": "execute_result"
    }
   ],
   "source": [
    "cm"
   ]
  },
  {
   "cell_type": "code",
   "execution_count": 56,
   "metadata": {},
   "outputs": [
    {
     "data": {
      "image/png": "[encoded data removed]",
      "text/plain": [
       "<Figure size 432x288 with 1 Axes>"
      ]
     },
     "metadata": {
      "needs_background": "light"
     },
     "output_type": "display_data"
    }
   ],
   "source": [
    "import seaborn as snNew\n",
    "import pandas as pdNew\n",
    "import matplotlib.pyplot as pltNew\n",
    "\n",
    "array = [[190,   0],\n",
    "       [  1, 117]]\n",
    "\n",
    "DetaFrame_cm = pdNew.DataFrame(array, range(2), range(2))\n",
    "snNew.heatmap(DetaFrame_cm, annot=True, cmap='Blues', cbar=False, linewidths=3, square=True, xticklabels=['0','1'], yticklabels=['0','1'], fmt='g')\n",
    "plt.ylabel(\"True Label\")\n",
    "plt.xlabel(\"Predicted Label\")\n",
    "pltNew.show()"
   ]
  },
  {
   "cell_type": "code",
   "execution_count": 54,
   "metadata": {},
   "outputs": [
    {
     "name": "stdout",
     "output_type": "stream",
     "text": [
      "              precision    recall  f1-score   support\n",
      "\n",
      "           0       0.81      1.00      0.90       190\n",
      "           1       1.00      0.63      0.77       118\n",
      "\n",
      "    accuracy                           0.86       308\n",
      "   macro avg       0.91      0.81      0.83       308\n",
      "weighted avg       0.88      0.86      0.85       308\n",
      "\n"
     ]
    }
   ],
   "source": [
    "from sklearn.metrics import classification_report\n",
    "mythreshold=0.823338\n",
    "\n",
    "\n",
    "y_pred = (alll>= mythreshold).astype(int)\n",
    "print(classification_report(y_true, y_pred))"
   ]
  },
  {
   "cell_type": "code",
   "execution_count": null,
   "metadata": {},
   "outputs": [],
   "source": []
  }
 ],
 "metadata": {
  "accelerator": "GPU",
  "colab": {
   "collapsed_sections": [],
   "name": "ResNet50.ipynb",
   "provenance": []
  },
  "kernelspec": {
   "display_name": "Python 3 (ipykernel)",
   "language": "python",
   "name": "python3"
  },
  "language_info": {
   "codemirror_mode": {
    "name": "ipython",
    "version": 3
   },
   "file_extension": ".py",
   "mimetype": "text/x-python",
   "name": "python",
   "nbconvert_exporter": "python",
   "pygments_lexer": "ipython3",
   "version": "3.9.6"
  }
 },
 "nbformat": 4,
 "nbformat_minor": 1
}
